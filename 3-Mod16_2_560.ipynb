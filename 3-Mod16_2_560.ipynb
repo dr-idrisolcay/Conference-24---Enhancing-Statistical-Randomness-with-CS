{
 "cells": [
  {
   "cell_type": "code",
   "execution_count": 1,
   "metadata": {},
   "outputs": [
    {
     "data": {
      "text/plain": [
       "\"\\n2560 kaotik değer üzerinden, \\nHer değer 4 bit ile ifade edilmiş,\\nmod 16'a göre işlem yapılmıştır\\n\\n\""
      ]
     },
     "execution_count": 1,
     "metadata": {},
     "output_type": "execute_result"
    }
   ],
   "source": [
    "'''\n",
    "2560 kaotik değer üzerinden, \n",
    "Her değer 4 bit ile ifade edilmiş,\n",
    "mod 16'a göre işlem yapılmıştır\n",
    "\n",
    "'''"
   ]
  },
  {
   "cell_type": "markdown",
   "metadata": {},
   "source": [
    "#### Gerekli kütüphanelerin projeye eklenmesi"
   ]
  },
  {
   "cell_type": "code",
   "execution_count": 2,
   "metadata": {},
   "outputs": [],
   "source": [
    "import numpy as np\n",
    "import math\n",
    "import matplotlib.pyplot as plt\n",
    "from scipy.stats import chi2"
   ]
  },
  {
   "cell_type": "markdown",
   "metadata": {},
   "source": [
    "#### Başlangıç değerlerinin oluşturulması"
   ]
  },
  {
   "cell_type": "code",
   "execution_count": 3,
   "metadata": {},
   "outputs": [],
   "source": [
    "r = 4 \n",
    "x_initial = 0.838178032758474\n",
    "n_iterations = 2_560\n",
    "n = 16 # mod 16 işlemi alınması istenmiştir"
   ]
  },
  {
   "cell_type": "markdown",
   "metadata": {},
   "source": [
    "#### Lojistik haritalama fonksiyonun oluşturulması"
   ]
  },
  {
   "cell_type": "code",
   "execution_count": 4,
   "metadata": {},
   "outputs": [],
   "source": [
    "def logistic_map(x, r):\n",
    "    return r * x * (1 - x)"
   ]
  },
  {
   "cell_type": "markdown",
   "metadata": {},
   "source": [
    "##### 2_560 tane değerin Lojistik haritalama fonksiyonuna gönderilmesi ve değerlerin üretilmesi"
   ]
  },
  {
   "cell_type": "code",
   "execution_count": 5,
   "metadata": {},
   "outputs": [],
   "source": [
    "def Calculate():\n",
    "\n",
    "     # Değerleri saklamak için dizi oluşturulması\n",
    "    global key_values\n",
    "    key_values = np.zeros(n_iterations)\n",
    "    key_values[0] = logistic_map(x_initial, r)\n",
    "\n",
    "    # Dizinin oluşturulması\n",
    "    for i in range(1, n_iterations):\n",
    "        key_values[i] = logistic_map(key_values[i-1], r)"
   ]
  },
  {
   "cell_type": "code",
   "execution_count": 6,
   "metadata": {},
   "outputs": [],
   "source": [
    "Calculate() # Fonksiyon çağrılarak hesaplanması sağlanmıştır"
   ]
  },
  {
   "cell_type": "markdown",
   "metadata": {},
   "source": [
    "##### Üretilen değerlerin txt formatında kaydedilmesi"
   ]
  },
  {
   "cell_type": "code",
   "execution_count": 7,
   "metadata": {},
   "outputs": [],
   "source": [
    "# Elde edilen değerlerin txt dosyasına yazdırılması\n",
    "with open(\"Output/Mod_16_2_560/Key_Values.txt\", \"w\") as file:\n",
    "    for item in key_values:\n",
    "        file.write(f\"{item:.15f}\\n\") # 15 basamağa kadar hassasiyetle çalışılmıştır"
   ]
  },
  {
   "cell_type": "markdown",
   "metadata": {},
   "source": [
    "##### 1. Mod Fonksiyonu"
   ]
  },
  {
   "cell_type": "code",
   "execution_count": 8,
   "metadata": {},
   "outputs": [],
   "source": [
    "def Mod():\n",
    "\n",
    "    global mod_values\n",
    "    mod_values = np.zeros(n_iterations)\n",
    "\n",
    "    for i in range (1, n_iterations + 1):\n",
    "        #mod_values[i-1] = int(round(10 * key_values[i-1])) % 10\n",
    "        mod_values[i-1] = int(100 * key_values[i-1]) % n # yuvarlama yapmadan hesaplama yapılmıştır."
   ]
  },
  {
   "cell_type": "code",
   "execution_count": 9,
   "metadata": {},
   "outputs": [],
   "source": [
    "Mod() # Mod fonksiyonun çağrılması ve değerlerin txt dosyasına yazdırılması\n",
    "\n",
    "with open(\"Output/Mod_16_2_560/Mod_Values.txt\", \"w\") as file:\n",
    "    for item in mod_values:\n",
    "        file.write(f\"{int(item)}\\n\") "
   ]
  },
  {
   "cell_type": "markdown",
   "metadata": {},
   "source": [
    "##### Ki - Kare Değerinin Hesaplanması"
   ]
  },
  {
   "cell_type": "code",
   "execution_count": 10,
   "metadata": {},
   "outputs": [],
   "source": [
    "# Ki-kare fonksiyonu\n",
    "def get_chi_square_value(df, alpha):\n",
    "  \n",
    "  if alpha <= 0 or alpha >= 1:\n",
    "    raise ValueError(\"Alpha değeri 0 ve 1 arasında olmalı.\")\n",
    "\n",
    "  return chi2.ppf(1 - alpha, df)"
   ]
  },
  {
   "cell_type": "code",
   "execution_count": 11,
   "metadata": {},
   "outputs": [
    {
     "name": "stdout",
     "output_type": "stream",
     "text": [
      "Alpha: 0.995, Chi-Square Value: 4.60\n",
      "Alpha: 0.990, Chi-Square Value: 5.23\n",
      "Alpha: 0.975, Chi-Square Value: 6.26\n",
      "Alpha: 0.950, Chi-Square Value: 7.26\n",
      "Alpha: 0.900, Chi-Square Value: 8.55\n",
      "Alpha: 0.750, Chi-Square Value: 11.04\n",
      "Alpha: 0.500, Chi-Square Value: 14.34\n",
      "Alpha: 0.250, Chi-Square Value: 18.25\n",
      "Alpha: 0.100, Chi-Square Value: 22.31\n",
      "Alpha: 0.050, Chi-Square Value: 25.00\n",
      "Alpha: 0.025, Chi-Square Value: 27.49\n",
      "Alpha: 0.005, Chi-Square Value: 32.80\n",
      "Alpha: 0.025, Chi-Square Value: 27.49\n",
      "Alpha: 0.010, Chi-Square Value: 30.58\n",
      "Alpha: 0.005, Chi-Square Value: 32.80\n",
      "Alpha: 0.001, Chi-Square Value: 37.70\n"
     ]
    }
   ],
   "source": [
    "df = 15  # df = k_max - k_min şeklinde sadeleşebilir. \n",
    "alpha_values = [0.995, 0.990, 0.975, 0.95, 0.9, 0.75, 0.5, 0.25, 0.1, 0.05, 0.025, 0.005, 0.025, 0.01, 0.005, 0.001]\n",
    "\n",
    "for alpha in alpha_values:\n",
    "  \n",
    "  chi_square_value = get_chi_square_value(df, alpha)\n",
    "  print(f\"Alpha: {alpha:.3f}, Chi-Square Value: {chi_square_value:.2f}\")"
   ]
  },
  {
   "cell_type": "markdown",
   "metadata": {},
   "source": [
    "#### Modulus --- Gözlemlenen ve Beklenen Değerlerin Frekansları"
   ]
  },
  {
   "cell_type": "code",
   "execution_count": 12,
   "metadata": {},
   "outputs": [
    {
     "name": "stdout",
     "output_type": "stream",
     "text": [
      "Gözlemlenen frekanslar (observed): [317, 223, 200, 298, 136, 140, 111, 117, 134, 129, 126, 135, 123, 117, 108, 146]\n",
      "Beklenen frekanslar (observed): [160.0, 160.0, 160.0, 160.0, 160.0, 160.0, 160.0, 160.0, 160.0, 160.0, 160.0, 160.0, 160.0, 160.0, 160.0, 160.0]\n"
     ]
    }
   ],
   "source": [
    "# Mevcut bekelenen 256.000 elemanlı dizi\n",
    "expected = [n_iterations/n] * n\n",
    "\n",
    "# Gözlenen frekansları hesapla (0'dan 9'a kadar olan sayılar için)\n",
    "observed = [np.sum(mod_values == i) for i in range(n)]\n",
    "print (f\"Gözlemlenen frekanslar (observed): {observed}\")\n",
    "print (f\"Beklenen frekanslar (observed): {expected}\")"
   ]
  },
  {
   "cell_type": "markdown",
   "metadata": {},
   "source": [
    "##### Modulus --- p_value Değerinin Değerinin Hesaplanması"
   ]
  },
  {
   "cell_type": "code",
   "execution_count": 13,
   "metadata": {},
   "outputs": [],
   "source": [
    "# chi2_stat: Bu, örneğin gözlenen ve beklenen frekanslar arasındaki farkı test etmek için verilerinizden hesaplanan gerçek Ki kare istatistiğidir. \n",
    "# Bu değeri p-değerini hesaplamak için kullanılmakatadır.\n",
    "def calculate_chi2_stat(observed, expected, epsilon=1e-10):\n",
    "   \n",
    "    if len(observed) != len(expected):\n",
    "        raise ValueError(\"Gözlenen ve beklenen frekanslar aynı uzunlukta olmalıdır.\")\n",
    "    \n",
    "    observed = np.array(observed)\n",
    "    expected = np.array(expected)\n",
    "\n",
    "    # Beklenen frekanslar 0 olan durumlar için epsilon ekle\n",
    "    adjusted_expected = np.where(expected == 0, epsilon, expected)\n",
    "    \n",
    "    chi2_stat = np.sum((observed - adjusted_expected) ** 2 / adjusted_expected)\n",
    "    \n",
    "    return chi2_stat"
   ]
  },
  {
   "cell_type": "code",
   "execution_count": 14,
   "metadata": {},
   "outputs": [],
   "source": [
    "chi2_stat = calculate_chi2_stat(observed, expected)"
   ]
  },
  {
   "cell_type": "code",
   "execution_count": 15,
   "metadata": {},
   "outputs": [],
   "source": [
    "# p_value değeri\n",
    "def calculate_p_value(chi2_stat, df):\n",
    "    return 1 - chi2.cdf(chi2_stat, df)"
   ]
  },
  {
   "cell_type": "code",
   "execution_count": 16,
   "metadata": {},
   "outputs": [
    {
     "data": {
      "text/plain": [
       "0.0"
      ]
     },
     "execution_count": 16,
     "metadata": {},
     "output_type": "execute_result"
    }
   ],
   "source": [
    "calculate_p_value(chi2_stat, df)"
   ]
  },
  {
   "cell_type": "markdown",
   "metadata": {},
   "source": [
    "##### Modulus --- Ki-Kare Testi ve Histogramın Çizilmesi"
   ]
  },
  {
   "cell_type": "code",
   "execution_count": 17,
   "metadata": {},
   "outputs": [],
   "source": [
    "def ki_kare_test_and_hist(decimx, k_min, k_max, step=1):\n",
    "    n = len(decimx)\n",
    "    \n",
    "    Beklenen = np.floor(n / (k_max - k_min + 1))\n",
    "\n",
    "    # Histogram hesaplama\n",
    "    R, _ = np.histogram(decimx, bins=range(k_min, k_max + 2))\n",
    "\n",
    "    Ki_kare = 0\n",
    "\n",
    "    for i in range(k_min, k_max + 1):\n",
    "        Ki_kare += (R[i - k_min] - Beklenen) ** 2 / Beklenen\n",
    "\n",
    "    # Histogram grafiğini çizme\n",
    "    bars = plt.bar(range(k_min, k_max + 1), R[:k_max - k_min + 1], align='center', alpha=0.7)\n",
    "\n",
    "    # Bar grafiğinin her bir barı üzerine değerleri ekleme\n",
    "    for bar in bars:\n",
    "        yval = bar.get_height()  # Barın yüksekliği (frekans değeri)\n",
    "        plt.text(bar.get_x() + bar.get_width()/2, yval, f'{yval:.0f}', va='bottom', ha='center')\n",
    "\n",
    "    plt.xlabel('Değerler')\n",
    "    plt.ylabel('Frekans')\n",
    "    plt.title(f'Histogram (Toplam Veri Sayısı: {n:_})')  # Başlığa veri sayısını binlik ayırıcı ile ekleme\n",
    "    plt.xticks(range(k_min, k_max + 1, step), rotation=45)  # X ekseni etiketlerini 45 derece döndürme\n",
    "\n",
    "    plt.show()\n",
    "\n",
    "    return Ki_kare"
   ]
  },
  {
   "cell_type": "code",
   "execution_count": 18,
   "metadata": {},
   "outputs": [
    {
     "data": {
      "image/png": "[encoded data removed]",
      "text/plain": [
       "<Figure size 640x480 with 1 Axes>"
      ]
     },
     "metadata": {},
     "output_type": "display_data"
    },
    {
     "name": "stdout",
     "output_type": "stream",
     "text": [
      "Ki-kare değeri: 400.1500000000001\n"
     ]
    }
   ],
   "source": [
    "mod = ki_kare_test_and_hist(mod_values, k_min = 0, k_max = 15, step = 1)\n",
    "print(f\"Ki-kare değeri: {mod}\")"
   ]
  },
  {
   "cell_type": "markdown",
   "metadata": {},
   "source": [
    "##### 2. Fraction Fonksiyonu"
   ]
  },
  {
   "cell_type": "code",
   "execution_count": 19,
   "metadata": {},
   "outputs": [],
   "source": [
    "# Kesirli kısmı hesaplama fonksiyonu\n",
    "def fractional_part(x):\n",
    "    return x - np.floor(x)  # 3.14 - 3 = 0.14\n",
    "\n",
    "# Çıkan değerin ilk basamağının elde edilmesi\n",
    "frac_values = np.zeros(n_iterations)\n",
    "\n",
    "for i in range(1, n_iterations + 1):\n",
    "    fractional = fractional_part(key_values[i-1])\n",
    "    frac_values[i-1] = int(fractional * 100) % n"
   ]
  },
  {
   "cell_type": "code",
   "execution_count": 20,
   "metadata": {},
   "outputs": [],
   "source": [
    "# Elde edilen değerlerin txt dosyasına yazdırılması\n",
    "with open(\"Output/Mod_16_2_560/Frac_Values.txt\", \"w\") as file:\n",
    "    for item in frac_values:\n",
    "        file.write(f\"{int(item)}\\n\") "
   ]
  },
  {
   "cell_type": "markdown",
   "metadata": {},
   "source": [
    "#### Fraction --- Gözlemlenen ve Beklenen Değerlerin Frekansları"
   ]
  },
  {
   "cell_type": "code",
   "execution_count": 21,
   "metadata": {},
   "outputs": [
    {
     "name": "stdout",
     "output_type": "stream",
     "text": [
      "Gözlemlenen frekanslar (observed): [317, 223, 200, 298, 136, 140, 111, 117, 134, 129, 126, 135, 123, 117, 108, 146]\n"
     ]
    }
   ],
   "source": [
    "# Mevcut bekelenen 256.000 elemanlı dizi\n",
    "expected = [n_iterations/n] * n\n",
    "\n",
    "# Gözlenen frekansları hesapla (0'dan 9'a kadar olan sayılar için)\n",
    "observed = [np.sum(frac_values == i) for i in range(n)]\n",
    "print (f\"Gözlemlenen frekanslar (observed): {observed}\")"
   ]
  },
  {
   "cell_type": "markdown",
   "metadata": {},
   "source": [
    "##### Fraction --- p_value Değerinin Değerinin Hesaplanması"
   ]
  },
  {
   "cell_type": "code",
   "execution_count": 22,
   "metadata": {},
   "outputs": [
    {
     "data": {
      "text/plain": [
       "0.0"
      ]
     },
     "execution_count": 22,
     "metadata": {},
     "output_type": "execute_result"
    }
   ],
   "source": [
    "chi2_stat = calculate_chi2_stat(observed, expected)\n",
    "calculate_p_value(chi2_stat, df)"
   ]
  },
  {
   "cell_type": "markdown",
   "metadata": {},
   "source": [
    "##### Fraction --- Ki-Kare Testi ve Histogramın Çizilmesi"
   ]
  },
  {
   "cell_type": "code",
   "execution_count": 23,
   "metadata": {},
   "outputs": [
    {
     "data": {
      "image/png": "[encoded data removed]",
      "text/plain": [
       "<Figure size 640x480 with 1 Axes>"
      ]
     },
     "metadata": {},
     "output_type": "display_data"
    },
    {
     "name": "stdout",
     "output_type": "stream",
     "text": [
      "Ki-kare değeri: 400.1500000000001\n"
     ]
    }
   ],
   "source": [
    "frac = ki_kare_test_and_hist(frac_values, k_min = 0, k_max = 15, step = 1)\n",
    "print(f\"Ki-kare değeri: {frac}\")"
   ]
  },
  {
   "cell_type": "markdown",
   "metadata": {},
   "source": [
    "##### 3. Threshold Fonksiyonu"
   ]
  },
  {
   "cell_type": "code",
   "execution_count": 24,
   "metadata": {},
   "outputs": [],
   "source": [
    "threshold = 0.5\n",
    "\n",
    "threshold_values = np.zeros(n_iterations) \n",
    "\n",
    "for i in range(1, n_iterations):\n",
    "\n",
    "    # Sayının tamamından - Tam kısmı çıkarılır  \n",
    "    threshold_values[i-1] = key_values[i-1] - np.floor(key_values[i-1])   \n",
    "   \n",
    "    if threshold_values[i-1] < threshold:\n",
    "        threshold_values[i-1] = 0\n",
    "\n",
    "    else:\n",
    "        threshold_values[i-1] = n-1"
   ]
  },
  {
   "cell_type": "code",
   "execution_count": 25,
   "metadata": {},
   "outputs": [],
   "source": [
    "# Elde edilen değerlerin txt dosyasına yazdırılması\n",
    "with open(\"Output/Mod_16_2_560/Threshold_Values.txt\", \"w\") as file:\n",
    "    for item in threshold_values:\n",
    "        file.write(f\"{int(item)}\\n\") "
   ]
  },
  {
   "cell_type": "markdown",
   "metadata": {},
   "source": [
    "#### Threshold --- Gözlemlenen ve Beklenen Değerlerin Frekansları"
   ]
  },
  {
   "cell_type": "code",
   "execution_count": 26,
   "metadata": {},
   "outputs": [
    {
     "name": "stdout",
     "output_type": "stream",
     "text": [
      "Gözlemlenen frekanslar (observed): [1292, 0, 0, 0, 0, 0, 0, 0, 0, 0, 0, 0, 0, 0, 0, 1268]\n"
     ]
    }
   ],
   "source": [
    "# Mevcut bekelenen 256.000 elemanlı dizi\n",
    "expected = [n_iterations/2] + [0] * (n-2) + [n_iterations/2]\n",
    "\n",
    "# Gözlenen frekansları hesapla (0'dan 9'a kadar olan sayılar için)\n",
    "observed = [np.sum(threshold_values == i) for i in range(n)]\n",
    "print (f\"Gözlemlenen frekanslar (observed): {observed}\")"
   ]
  },
  {
   "cell_type": "markdown",
   "metadata": {},
   "source": [
    "##### Threshold --- p_value Değerinin Değerinin Hesaplanması"
   ]
  },
  {
   "cell_type": "code",
   "execution_count": 27,
   "metadata": {},
   "outputs": [
    {
     "data": {
      "text/plain": [
       "0.9999999999950641"
      ]
     },
     "execution_count": 27,
     "metadata": {},
     "output_type": "execute_result"
    }
   ],
   "source": [
    "# Burada sıfıra bölme hatasıyla karşılşamamak için epsilon=1e-10 şeklinde çok küçük bir hassiyet değeri calculate_chi2_stat(observed, expected) fonksiyonuna eklenmiştir.\n",
    "chi2_stat = calculate_chi2_stat(observed, expected)\n",
    "calculate_p_value(chi2_stat, df)"
   ]
  },
  {
   "cell_type": "markdown",
   "metadata": {},
   "source": [
    "##### Threshold --- Ki-Kare Testi ve Histogramın Çizilmesi"
   ]
  },
  {
   "cell_type": "code",
   "execution_count": 28,
   "metadata": {},
   "outputs": [
    {
     "data": {
      "image/png": "[encoded data removed]",
      "text/plain": [
       "<Figure size 640x480 with 1 Axes>"
      ]
     },
     "metadata": {},
     "output_type": "display_data"
    },
    {
     "name": "stdout",
     "output_type": "stream",
     "text": [
      "Ki-kare değeri: 17921.8\n"
     ]
    }
   ],
   "source": [
    "threshold = ki_kare_test_and_hist(threshold_values, k_min = 0, k_max = 15, step = 1)\n",
    "print(f\"Ki-kare değeri: {threshold}\")"
   ]
  },
  {
   "cell_type": "markdown",
   "metadata": {},
   "source": [
    "##### 4. Sin Fonksiyonu"
   ]
  },
  {
   "cell_type": "code",
   "execution_count": 29,
   "metadata": {},
   "outputs": [],
   "source": [
    "# Dizinin oluşturulması\n",
    "sin_values = np.zeros(n_iterations)\n",
    "\n",
    "for i in range(1, n_iterations + 1):\n",
    "    sin_values[i-1] = int((np.sin(2 * np.pi * key_values[i-1]) + 1) * 50) % n"
   ]
  },
  {
   "cell_type": "code",
   "execution_count": 30,
   "metadata": {},
   "outputs": [],
   "source": [
    "# Elde edilen değerlerin txt dosyasına yazdırılması\n",
    "with open(\"Output/Mod_16_2_560/Sin_Values.txt\", \"w\") as file:\n",
    "    for item in sin_values:\n",
    "        file.write(f\"{int(item)}\\n\")"
   ]
  },
  {
   "cell_type": "code",
   "execution_count": 31,
   "metadata": {},
   "outputs": [
    {
     "name": "stdout",
     "output_type": "stream",
     "text": [
      "Gözlemlenen frekanslar (observed): [247, 273, 250, 274, 150, 125, 128, 110, 124, 115, 125, 125, 120, 155, 104, 135]\n"
     ]
    }
   ],
   "source": [
    "# Mevcut bekelenen 256.000 elemanlı dizi\n",
    "expected = [n_iterations/n] * n\n",
    "\n",
    "# Gözlenen frekansları hesapla (0'dan 15'a kadar olan sayılar için)\n",
    "observed = [np.sum(sin_values == i) for i in range(n)]\n",
    "print (f\"Gözlemlenen frekanslar (observed): {observed}\")"
   ]
  },
  {
   "cell_type": "markdown",
   "metadata": {},
   "source": [
    "##### Sin --- p_value Değerinin Değerinin Hesaplanması"
   ]
  },
  {
   "cell_type": "code",
   "execution_count": 32,
   "metadata": {},
   "outputs": [
    {
     "data": {
      "text/plain": [
       "0.0"
      ]
     },
     "execution_count": 32,
     "metadata": {},
     "output_type": "execute_result"
    }
   ],
   "source": [
    "chi2_stat = calculate_chi2_stat(observed, expected)\n",
    "calculate_p_value(chi2_stat, df)"
   ]
  },
  {
   "cell_type": "markdown",
   "metadata": {},
   "source": [
    "##### Sin --- Ki-Kare Testi ve Histogramın Çizilmesi"
   ]
  },
  {
   "cell_type": "code",
   "execution_count": 33,
   "metadata": {},
   "outputs": [
    {
     "data": {
      "image/png": "[encoded data removed]",
      "text/plain": [
       "<Figure size 640x480 with 1 Axes>"
      ]
     },
     "metadata": {},
     "output_type": "display_data"
    },
    {
     "name": "stdout",
     "output_type": "stream",
     "text": [
      "Ki-kare değeri: 359.0\n"
     ]
    }
   ],
   "source": [
    "sin = ki_kare_test_and_hist(sin_values, k_min = 0, k_max = 15, step = 1)\n",
    "print(f\"Ki-kare değeri: {sin}\")"
   ]
  },
  {
   "cell_type": "markdown",
   "metadata": {},
   "source": [
    "##### 5. Lineer Fonksiyon"
   ]
  },
  {
   "cell_type": "code",
   "execution_count": 34,
   "metadata": {},
   "outputs": [],
   "source": [
    "# Başlangıç değerlerinin verilmesi\n",
    "a = 1.5\n",
    "b = -0.5"
   ]
  },
  {
   "cell_type": "code",
   "execution_count": 35,
   "metadata": {},
   "outputs": [],
   "source": [
    "# Dizinin oluşturulması\n",
    "lts_values = np.zeros(n_iterations)\n",
    "for i in range(1, n_iterations + 1):\n",
    "    lts_values[i-1] = (np.floor((a * key_values[i-1] + b) * 100)) % n"
   ]
  },
  {
   "cell_type": "code",
   "execution_count": 36,
   "metadata": {},
   "outputs": [],
   "source": [
    "# Elde edilen değerlerin txt dosyasına yazdırılması\n",
    "with open(\"Output/Mod_16_2_560/Lineer_Values.txt\", \"w\") as file:\n",
    "    for item in lts_values:\n",
    "        file.write(f\"{int(item)}\\n\")"
   ]
  },
  {
   "cell_type": "code",
   "execution_count": 37,
   "metadata": {},
   "outputs": [
    {
     "name": "stdout",
     "output_type": "stream",
     "text": [
      "Gözlemlenen frekanslar (observed): [179, 175, 196, 264, 131, 136, 129, 143, 118, 113, 113, 118, 134, 129, 280, 202]\n"
     ]
    }
   ],
   "source": [
    "# Mevcut bekelenen 256.000 elemanlı dizi\n",
    "expected = [n_iterations/n] * n\n",
    "\n",
    "# Gözlenen frekansları hesapla (0'dan 15'a kadar olan sayılar için)\n",
    "observed = [np.sum(lts_values == i) for i in range(n)]\n",
    "print (f\"Gözlemlenen frekanslar (observed): {observed}\")"
   ]
  },
  {
   "cell_type": "markdown",
   "metadata": {},
   "source": [
    "##### Lineer --- p_value Değerinin Değerinin Hesaplanması"
   ]
  },
  {
   "cell_type": "code",
   "execution_count": 38,
   "metadata": {},
   "outputs": [
    {
     "data": {
      "text/plain": [
       "0.0"
      ]
     },
     "execution_count": 38,
     "metadata": {},
     "output_type": "execute_result"
    }
   ],
   "source": [
    "chi2_stat = calculate_chi2_stat(observed, expected)\n",
    "calculate_p_value(chi2_stat, df)"
   ]
  },
  {
   "cell_type": "code",
   "execution_count": 39,
   "metadata": {},
   "outputs": [
    {
     "data": {
      "image/png": "[encoded data removed]",
      "text/plain": [
       "<Figure size 640x480 with 1 Axes>"
      ]
     },
     "metadata": {},
     "output_type": "display_data"
    },
    {
     "name": "stdout",
     "output_type": "stream",
     "text": [
      "Ki-kare değeri: 256.95\n"
     ]
    }
   ],
   "source": [
    "lts = ki_kare_test_and_hist(lts_values, k_min = 0, k_max = 15, step = 1)\n",
    "print(f\"Ki-kare değeri: {lts}\")"
   ]
  }
 ],
 "metadata": {
  "kernelspec": {
   "display_name": "base",
   "language": "python",
   "name": "python3"
  },
  "language_info": {
   "codemirror_mode": {
    "name": "ipython",
    "version": 3
   },
   "file_extension": ".py",
   "mimetype": "text/x-python",
   "name": "python",
   "nbconvert_exporter": "python",
   "pygments_lexer": "ipython3",
   "version": "3.11.5"
  }
 },
 "nbformat": 4,
 "nbformat_minor": 2
}
